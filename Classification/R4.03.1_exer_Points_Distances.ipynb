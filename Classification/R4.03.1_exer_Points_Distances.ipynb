{
  "metadata": {
    "kernelspec": {
      "name": "python",
      "display_name": "Python (Pyodide)",
      "language": "python"
    },
    "language_info": {
      "codemirror_mode": {
        "name": "python",
        "version": 3
      },
      "file_extension": ".py",
      "mimetype": "text/x-python",
      "name": "python",
      "nbconvert_exporter": "python",
      "pygments_lexer": "ipython3",
      "version": "3.8"
    }
  },
  "nbformat_minor": 4,
  "nbformat": 4,
  "cells": [
    {
      "cell_type": "markdown",
      "source": "# Clustering - Partitionnement de données - *Exercices Corrigés*\n*PASS 2022-2023*",
      "metadata": {}
    },
    {
      "cell_type": "markdown",
      "source": "## Ressources",
      "metadata": {
        "heading_collapsed": true
      }
    },
    {
      "cell_type": "markdown",
      "source": "### Sites web",
      "metadata": {
        "heading_collapsed": true,
        "hidden": true
      }
    },
    {
      "cell_type": "markdown",
      "source": "- [Matplotlib](https://matplotlib.org/)\n- [Scikit learn](https://scikit-learn.org/stable/index.html)\n- [NumPy](https://numpy.org/)",
      "metadata": {
        "hidden": true
      }
    },
    {
      "cell_type": "markdown",
      "source": "## Les points",
      "metadata": {}
    },
    {
      "cell_type": "markdown",
      "source": "### Exercice TD: Dimensions des jeux de données et des points",
      "metadata": {
        "heading_collapsed": true
      }
    },
    {
      "cell_type": "markdown",
      "source": "Pour les jeux de données $\\mathcal(D)_k$ suivants, donner les valeurs de $N$ et $d$.\n\n1. $\\mathcal{D}_1=\\{\\{1., 3., 0.8\\}, \\{-2.3, 23.4, 6.7\\}\\}$\n2. $\\mathcal{D}_2=\\{\\{1., 3.\\},\\{ 0.8, -2.3\\},\\{ 23.4, 6.7\\}\\}$\n3. $\\mathcal{D}_3=\\{\\{1.\\},\\{ 3.\\},\\{ 0.8\\}, \\{-2.3\\},\\{ 23.4\\}, \\{6.7\\}\\}$",
      "metadata": {
        "hidden": true
      }
    },
    {
      "cell_type": "markdown",
      "source": "### Exercice TP: Représentation de jeux de données et identification des contours des clusters",
      "metadata": {
        "heading_collapsed": true
      }
    },
    {
      "cell_type": "markdown",
      "source": "Chargez les jeux de données suivants :\n- 'datasets/dataset_identification_clusters_1.json'\n- 'datasets/dataset_identification_clusters_2.json'\n- 'datasets/dataset_identification_clusters_3.json'\n- 'datasets/dataset_identification_clusters_4.json'\n\nReprésentez les points et déterminez visuellement le nombre et les contours des clusters.",
      "metadata": {
        "hidden": true
      }
    },
    {
      "cell_type": "markdown",
      "source": "#### Préparation du jeu de données",
      "metadata": {
        "hidden": true
      }
    },
    {
      "cell_type": "code",
      "source": "import json\nfrom sklearn.datasets import make_classification, make_blobs\nimport matplotlib.pyplot as plt\nimport numpy as np\n\n# ------------------ Dataset 1 ------------------\nrandom_state = 2\nstd = 1.2\nn_samples = [500,500,500,500]\ncenters = [(7.5,12.5),(7.5, 7.5),(12.5,12.5),(12.5, 7.5)]\nD, y = make_blobs(n_samples=n_samples, random_state=random_state, centers=centers, cluster_std= std, center_box= (0.0, 20.0))\n\nwith open('datasets/dataset_identification_clusters_1.json', 'w') as json_file:\n    json.dump(D.tolist(), json_file)\n\n# ------------------ Dataset 2 ------------------\nrandom_state = 4\nD, y = make_classification(n_samples=1000,n_features=2, n_classes=2, random_state=random_state, n_redundant=0, n_informative=2, n_clusters_per_class=1)\n\nwith open('datasets/dataset_identification_clusters_2.json', 'w') as json_file:\n    json.dump(D.tolist(), json_file)\n\n# ------------------ Dataset 3 ------------------\nrandom_state = 5\nD, y = make_classification(n_samples=1000,n_features=2, n_classes=4, random_state=random_state, n_redundant=0, n_informative=2, n_clusters_per_class=1)\n\nwith open('datasets/dataset_identification_clusters_3.json', 'w') as json_file:\n    json.dump(D.tolist(), json_file)\n\n# ------------------ Dataset 4 ------------------\nrandom_state = 2\nD, y = make_classification(n_samples=1000,n_features=2, random_state=random_state, n_redundant=0, n_informative=2, n_clusters_per_class=1)\n\nwith open('datasets/dataset_identification_clusters_4.json', 'w') as json_file:\n    json.dump(D.tolist(), json_file)",
      "metadata": {
        "hidden": true,
        "hide_input": true
      },
      "outputs": [],
      "execution_count": 3
    },
    {
      "cell_type": "markdown",
      "source": "### Exercice TD: Suis-je potentiellement un cluster ?\nSoient :",
      "metadata": {
        "heading_collapsed": true
      }
    },
    {
      "cell_type": "markdown",
      "source": "- $c_3$ et $c_4$ sont-ils des clusters potentiels du jeu de données $\\mathcal{D}_5$? ",
      "metadata": {
        "heading_collapsed": true
      }
    },
    {
      "cell_type": "code",
      "source": "D5 = [(1), (3), (9), (5)]\nc3 = [(1),  (9), (5)]\nc4 = [(1), (-3)]",
      "metadata": {},
      "outputs": [],
      "execution_count": 5
    },
    {
      "cell_type": "markdown",
      "source": "- $c_5$ et $c_6$ ont-ils des clusters potentiels du jeu de données $\\mathcal{D}_6$? ",
      "metadata": {
        "heading_collapsed": true
      }
    },
    {
      "cell_type": "code",
      "source": "D6 = [(1, 3, 9), ( 5, 8, 2), (-4, 3,  4), (10, 6, -10)]\nc5 = [(5, 8, 2), (-4, 3, 4), (10, 6, 10)]\nc6 = [(1, 3, 9)]",
      "metadata": {},
      "outputs": [],
      "execution_count": 6
    },
    {
      "cell_type": "markdown",
      "source": "- $c_7$ et $c_8$ et Subscript[c, 4] sont-ils des clusters potentiels du jeu de données $\\mathcal{D}_7$? ",
      "metadata": {
        "heading_collapsed": true
      }
    },
    {
      "cell_type": "code",
      "source": "D7 = [(1, 3, 9,  6, 9, -2), ( 5, 8, 2, -2, 4,  5), (-4, 3, 4,  8, 1, -1), (10, 6, -10, -5, -4 - 7)]\nc7 = [(1, 3, 9,  6, 9, -2), (-4, 3, 4,  8, 1, -1), ( 5, 8, 2, -2, 4,  5)]\nc8 = [(5, 8, 2, -2, 4,  5), ( 1, 3, 9,  6, 9, -2)]",
      "metadata": {},
      "outputs": [],
      "execution_count": 7
    },
    {
      "cell_type": "markdown",
      "source": "### Exercice TP: Suis-je potentiellement un cluster ?\nLe fichier `datasets/notes_ue.json` contient une liste d'étudiants et leurs notes aux UE1 et UE2. Chaque étudiant à un identifiant unique.\n\nUn analyste nous envoie 2 fichiers `datasets/notes_ue_cl1.json` et `datasets/notes_ue_cl2.json` correspondant, dit-il, à 2 clusters intéressants qu'il a identifié. Dans chaque fichier est donné la liste des identifiants de chaque étudiant appartenant au cluster.\n\nVérifiez que ces 2 fichiers remplissent les critères de base pour être des clusters.",
      "metadata": {
        "heading_collapsed": true
      }
    },
    {
      "cell_type": "markdown",
      "source": "### Exercice TD: Suis-je une partition non-recouvrante?",
      "metadata": {
        "heading_collapsed": true
      }
    },
    {
      "cell_type": "markdown",
      "source": "1. Les clusters de points $\\{c_{11},c_{12},c_{13}\\}$ forment-t-il un clustering potentiel (une partition non-recouvrante) du jeu de données  $\\mathcal{D}_1$?",
      "metadata": {}
    },
    {
      "cell_type": "code",
      "source": "D1  = [(\"x1\"), (\"x2\"), (\"x3\"), (\"x4\"), (\"x5\"), (\"x6\"), (\"x7\")]\nc11 = [(\"x1\"), (\"x2\"), (\"x7\")]\nc12 = [(\"x3\"), (\"x6\")]\nc13 = [(\"x4\"), (\"x5\")]",
      "metadata": {},
      "outputs": [],
      "execution_count": 12
    },
    {
      "cell_type": "markdown",
      "source": "2. Les clusters de points $\\{c_{21},c_{22},c_{23},c_{24}\\}$ forment-t-il un clustering potentiel (une partition non-recouvrante) du jeu de données  $\\mathcal{D}_2$?",
      "metadata": {}
    },
    {
      "cell_type": "code",
      "source": "D2  = [(\"x1\"), (\"x2\"), (\"x3\"), (\"x4\"), (\"x5\"), (\"x6\"), (\"x7\")]\nc21 = [(\"x1\")]\nc22 = [(\"x2\"), (\"x7\")]\nc23 = [(\"x3\"), (\"x6\")]\nc24 = [(\"x4\"), (\"x5\")]",
      "metadata": {},
      "outputs": [],
      "execution_count": 13
    },
    {
      "cell_type": "markdown",
      "source": "3. Les clusters de points $\\{c_{31},c_{32},c_{33}\\}$ forment-t-il un clustering potentiel (une partition non-recouvrante) du jeu de données  $\\mathcal{D}_3$?",
      "metadata": {}
    },
    {
      "cell_type": "code",
      "source": "D3 = [(\"x1\"), (\"x2\"), (\"x3\"), (\"x4\"), (\"x5\"), (\"x6\"), (\"x7\")]\nc31 = [(\"x1\")]\nc32 = [(\"x3\"), (\"x6\"), (\"x7\")]\nc33 = [(\"x4\"), (\"x5\")]",
      "metadata": {},
      "outputs": [],
      "execution_count": 14
    },
    {
      "cell_type": "markdown",
      "source": "### Exercice TD: Calcul des distances Euclidiennes et de Manhattan ",
      "metadata": {
        "heading_collapsed": true
      }
    },
    {
      "cell_type": "markdown",
      "source": "Au moyen des formules du cours, calculez :\n- les distances Euclidiennes $dist_E(e_i,e_j)$,\n- les distances Manhattan $dist_M(e_i,e_j)$.\n\n1. entre les points $a =(1)$ et $b = (3)$\n2. entre les points $u = (1,1)$ et $v = (2,2)$\n3. entre les points $x_1 = ( 1, 2, 1)$ et $x_2 = ( 2, 5, 2)$\n4. entre les points $x_1 = ( 1, 2, 1)$ et $x_3 = ( 3, 4, 2)$\n\nCommentez les résultats...",
      "metadata": {
        "hidden": true
      }
    },
    {
      "cell_type": "markdown",
      "source": "### Exercice TP: Programmation des distances",
      "metadata": {
        "heading_collapsed": true
      }
    },
    {
      "cell_type": "markdown",
      "source": "1. Programmez une fonction calculant la distance de Minkowski de 2 points x de dimension arbitraire en fonction du paramètre d et définissez à partir de celle-ci les fonctions correspondant aux distances de Mahattan et euclidienne.\n\n2. Vérifiez que les distances sont correctement programmée en les utilisant sur les exemples calculés à la main dans le précédent exercice.",
      "metadata": {
        "hidden": true
      }
    },
    {
      "cell_type": "code",
      "source": "#def distMinkowski(x1, x2, q):\n#    res = 0\n#    for a, b in zip(x1, x2):\n#        res += (a - b)**q\n#    return res**(1/q)\n\ndef distMinkowski(x1, x2, d):\n    res = 0\n    for i in range(d):\n        res += (x1[i] - x2[i]) ** 2\n    return res**(1/d)\n\n\ndef distEuclidienne(x1, x2):\n    if len(x1) == 1:\n        return np.abs(x1 - x2)\n    else:\n        return distMinkowski(x1, x2, 2)\n\n\ndef distManhattan(x1, x2): return distMinkowski(x1, x2, 1)\n\nu = [1, 1]\nv = [2, 2]\nx1 = [1, 2, 1]\nx2 = [2, 5, 2]\nprint(distEuclidienne(v, u))\nprint(distEuclidienne(x1, x2))",
      "metadata": {
        "trusted": true
      },
      "outputs": [
        {
          "name": "stdout",
          "text": "1.4142135623730951\n3.1622776601683795\n",
          "output_type": "stream"
        }
      ],
      "execution_count": 84
    },
    {
      "cell_type": "markdown",
      "source": "### Exercice TP: Trouver le point le plus proche",
      "metadata": {
        "heading_collapsed": true
      }
    },
    {
      "cell_type": "markdown",
      "source": "On rappelle ici le jeu de données $\\mathcal{D}_7$ contenant 4 points de dimension 6 :",
      "metadata": {
        "hidden": true
      }
    },
    {
      "cell_type": "code",
      "source": "D7 = [(1, 3, 9,  6, 9, -2), ( 5, 8, 2, -2, 4,  5), (-4, 3, 4,  8, 1, -1), (10, 6, -10, -5, -4, - 7)]\nres = []\n\nfor point in D7:\n    mat = {}\n    mat[\"Index\"] = D7.index(point)\n    mat[\"Voisin plus proche - Euclide\"] = min([(distEuclidienne(point, x), D7.index(x)) for x in D7 if x != point])\n    mat[\"Voisin plus proche - Manhattan\"] = min([(distManhattan(point, x), D7.index(x)) for x in D7 if x != point])\n    res.append(mat)\n\nfor point in res:\n    print(point)",
      "metadata": {
        "trusted": true
      },
      "outputs": [
        {
          "name": "stdout",
          "text": "{'Index': 0, 'Voisins - Euclide': [15.0996688705415, 10.908712114635714, 27.676705006196094], 'Voisin plus proche - Euclide': (10.908712114635714, 2), 'Voisin plus proche - Manhattan': (21.0, 2)}\n{'Index': 1, 'Voisins - Euclide': [15.0996688705415, 15.968719422671311, 19.748417658131498], 'Voisin plus proche - Euclide': (15.0996688705415, 0), 'Voisin plus proche - Manhattan': (35.0, 2)}\n{'Index': 2, 'Voisins - Euclide': [10.908712114635714, 15.968719422671311, 25.11971337416094], 'Voisin plus proche - Euclide': (10.908712114635714, 0), 'Voisin plus proche - Manhattan': (21.0, 0)}\n{'Index': 3, 'Voisins - Euclide': [27.676705006196094, 19.748417658131498, 25.11971337416094], 'Voisin plus proche - Euclide': (19.748417658131498, 1), 'Voisin plus proche - Manhattan': (42.0, 1)}\n",
          "output_type": "stream"
        }
      ],
      "execution_count": 14
    },
    {
      "cell_type": "markdown",
      "source": "Pour chacun des points du jeu de données, déterminez quel est son plus proche voisin et son indice de position dans le jeu de données avec les distances euclidienne et de Manhattan.",
      "metadata": {}
    },
    {
      "cell_type": "markdown",
      "source": "### Exercice TP: Calcul de la distance de Mahanalobis",
      "metadata": {
        "heading_collapsed": true
      }
    },
    {
      "cell_type": "markdown",
      "source": "Pour chacun des 2 jeux de données suivant:\n- 'datasets/dataset_mahalanobis_D.json'\n- 'datasets/dataset_mahalanobis_D_aniso.json'\n\nCalculer pour chacun des 2 jeux de données:\n- la matrice de covariance $C$ sur *l'ensemble du jeu de données*,\n- la matrince inverse de la matrice de covariance,\n- la distance de Mahalanobis entre les 2 points d'indices 456 et 692,\n- lla distance de Mahalanobis entre les 2 points d'indices 164 et 410.\n\nQu'observez-vous?",
      "metadata": {
        "hidden": true
      }
    },
    {
      "cell_type": "markdown",
      "source": "<span style=\"color:midnightblue\">\n\n<u>**Fonctions utiles :**</u>\n- `from sklearn.covariance import empirical_covariance`\n- `from numpy.linalg import inv`\n- `from numpy import matmul`\n- `from numpy import resize`\n\n</span>",
      "metadata": {
        "hidden": true
      }
    },
    {
      "cell_type": "markdown",
      "source": "#### Préparation des jeux de données",
      "metadata": {
        "heading_collapsed": true,
        "hidden": true
      }
    },
    {
      "cell_type": "code",
      "source": "import json\nimport numpy as np\nimport sklearn\nfrom sklearn.datasets import make_classification\nfrom sklearn.datasets import make_blobs\n\n# ------------------ Dataset 1 ------------------\nrandom_state = 1\nstd = 1.\nD, y = make_blobs(n_samples=1000, random_state=random_state, centers=1, cluster_std= std, center_box= (0.0, 20.0))\n\ndef distMahalanobis(D, x1, x2):\n    res = 0\n    means = np.mean(D, axis=0)\n    M = np.cov(D - means, rowvar=False)\n    I = np.linalg.inv(M)\n    res = np.matmul((x1 - x2), I)\n    res = np.matmul(res, (x1 - x2))\n    return np.sqrt(res)\n    # for a, b in zip(x1, x2):\n    #     res += (abs(a - b)) * I\n    # return res**1/q\n\ndef distMaha(x1, x2, mat):\n    mat = np.linalg.inv(mat)\n    res = np.matmul((x1 - x2), mat)\n    res = np.matmul(res, (x1 - x2))\n    return np.sqrt(res)\n\nwith open('dataset_mahalanobis_D.json', 'w') as json_file:\n    json.dump(D.tolist(), json_file)\n    print(D[456], \" \", D[692])\n    print(distMahalanobis(D, D[456], D[692]))\n    print(distMahalanobis(D, D[164], D[410]))\n\n# ------------------ Dataset 2 ------------------\ntransformation = [[0.60834549, -0.63667341], [-0.40887718, 0.85253229]]\nD_aniso = np.dot(D, transformation) + (10., 7.5)\n\nwith open('dataset_mahalanobis_D_aniso.json', 'w') as json_file:\n    json.dump(D_aniso.tolist(), json_file)\n    print(D_aniso[456], \" \", D_aniso[692])\n    print(distMahalanobis(D_aniso, D_aniso[456], D_aniso[692]))\n    print(distMahalanobis(D_aniso, D_aniso[164], D_aniso[410]))\n\n",
      "metadata": {
        "hidden": true,
        "trusted": true
      },
      "outputs": [
        {
          "name": "stdout",
          "text": "[ 5.83399944 12.29232595]   [10.50089582 16.40548188]\n6.299743416248202\n7.343596877826211\n[ 8.52303568 14.26525247]   [ 9.68034544 14.80056189]\n6.299743416248142\n7.343596877826197\n",
          "output_type": "stream"
        }
      ],
      "execution_count": 45
    },
    {
      "cell_type": "markdown",
      "source": "### Exercice TD: Calcul de la distance de Hamming",
      "metadata": {
        "heading_collapsed": true
      }
    },
    {
      "cell_type": "markdown",
      "source": "Soient les 2 points a valeures discrètes:\n- $x_1=\\{0, 1, 1, 1, 0, 1, 0, 1, 1, 0, 0\\}$\n- $x_2=\\{0, 1, 0, 0, 1, 1, 0, 0, 1, 1, 0\\}$\n\nQuelle est la distance de Hamming entre ces deux points:",
      "metadata": {
        "hidden": true
      }
    },
    {
      "cell_type": "markdown",
      "source": "#### Correction",
      "metadata": {
        "heading_collapsed": true,
        "hidden": true
      }
    },
    {
      "cell_type": "markdown",
      "source": "| Points                | $x_{i,1}$ | $x_{i,2}$ | $x_{i,3}$ | $x_{i,4}$ | $x_{i,5}$ |$x_{i,6}$ | $x_{i,7}$ | $x_{i,8}$ | $x_{i,9}$ | $x_{i,10}$ |$x_{i,11}$ |\n|:--------------------- | - | - | ----- | ----- | ----- | - | - | ----- | - | ----- | - |\n| $x_1$                 | 0 | 1 | **1** | **1** | **0** | 1 | 0 | **1** | 1 | **0** | 0 |\n| $x_2$                 | 0 | 1 | **0** | **0** | **1** | 1 | 0 | **0** | 1 | **1** | 0 |\n| $x_{1|j}\\ne\\ x_{2|j}$ | F | F | **T** | **T** | **T** | F | F | **T** | F | **T** | F |\n",
      "metadata": {
        "hidden": true
      }
    },
    {
      "cell_type": "markdown",
      "source": "$$dist_H(x_1, x_2) = 5$$",
      "metadata": {
        "hidden": true
      }
    },
    {
      "cell_type": "markdown",
      "source": "### Exercice TP: Programmation de la distance de Hamming",
      "metadata": {
        "heading_collapsed": true
      }
    },
    {
      "cell_type": "markdown",
      "source": "Programmer la distance de Hamming et vérifier sont fonctionnement en l'appliquant à l'exemple de l'exercice de TD précédent.",
      "metadata": {
        "hidden": true
      }
    },
    {
      "cell_type": "code",
      "source": "def distHamming(x1, x2):\n    res = 0\n    for a, b in zip(x1, x2):\n        if a != b:\n            res +=1\n    return res\n\nx1 = [1, 2, 2, 2, 1, 2, 1, 2, 1, 1]\nx2 = [1, 2, 1, 1, 1, 2, 1, 2, 1, 2]\nprint(distHamming(x1, x2))\n",
      "metadata": {
        "trusted": true
      },
      "outputs": [
        {
          "name": "stdout",
          "text": "3\n",
          "output_type": "stream"
        }
      ],
      "execution_count": 46
    },
    {
      "cell_type": "markdown",
      "source": "### Exercice TD: Calcul de distances inter-clusters   ",
      "metadata": {
        "heading_collapsed": true,
        "tags": []
      }
    },
    {
      "cell_type": "markdown",
      "source": "Soient 2 clusters constitués des points suivants:\n- $cl_1 = \\{pt_1, pt_2\\} = \\{(1, 0, 0), (0, 2, 0)\\}$\n- $cl_2 = \\{pt_3, pt_4\\} = \\{(6, 3, 1), (8, 4, 1)\\}$\n\nEn utilisant *la métrique de la distance euclidienne* entre les points, calculez les distances inter-clusters dans les cas suivants:\n- saut minimum [SINGLE]\n- saut maximal [COMPLETE]\n- Ward [WARD]",
      "metadata": {
        "hidden": true
      }
    },
    {
      "cell_type": "markdown",
      "source": "### Exercice TP : Programmation des distances inter-cluster",
      "metadata": {
        "tags": []
      }
    },
    {
      "cell_type": "markdown",
      "source": "À partir des 2 clusters d'étudiants (représentés par leur moyennes aux U1 et UE2) donnés dans les fichiers suivants:\n- 'datasets/dataset_cluster_1.json'\n- 'datasets/dataset_cluster_2.json'\n\nCalculer les distances inter-cluster avec :\n- la distance des plus proches voisins [SINGLE] \n- la distance du diamètre maximal [COMPLETE]\n- la distance moyenne [AVERAGE]\n- la distance de Ward [WARD]\n\nVous pourrez utiliser comme distance inter points la distance Euclidienne précédemment définie.",
      "metadata": {}
    },
    {
      "cell_type": "markdown",
      "source": "#### Préparation des jeux de données ",
      "metadata": {}
    },
    {
      "cell_type": "code",
      "source": "import json\nfrom sklearn.datasets import make_blobs\n\ndef centroid(c):\n    return np.mean(c)\n\n\ndef distSINGLE(c1, c2):\n    return min([distEuclidienne(x, y) for x in c1 for y in c2])\n\ndef distCOMPLETE(c1, c2):\n    return max([distEuclidienne(x, y) for x in c1 for y in c2])\n\ndef distAVERAGE(c1, c2):\n    n = sum([distEuclidienne(x, y) for x in c1 for y in c2])\n    return n / (len(c1) * len(c2))\n\ndef distWARD(c1, c2):\n    n1 = len(c1)\n    n2 = len(c2)\n    dist = distEuclidienne(centroid(c1), centroid(c2))\n    n = (n1 * n2) / (n1 + n2)\n    return np.sqrt(n) * dist\n\n# ------------------ Cluster 1 ------------------\nstd = 1.2\nrandom_state = 1\ncluster_1, y = make_blobs(n_samples=50, random_state=random_state, centers=np.array([(8,10)]), cluster_std= std, center_box= (0.0, 20.0))\n\nwith open('dataset_cluster_1.json', 'w') as json_file:\n    json.dump(cluster_1.tolist(), json_file)\n# ------------------ Cluster 2 ------------------\nrandom_state = 2\ncluster_2, y = make_blobs(n_samples=50, random_state=random_state, centers=np.array([(15,12)]), cluster_std= std, center_box= (0.0, 20.0))\n\nwith open('dataset_cluster_2.json', 'w') as json_file:\n    json.dump(cluster_2.tolist(), json_file)\n    \nprint(distSINGLE(cluster_1, cluster_2))\nprint(distCOMPLETE(cluster_1, cluster_2))\nprint(distAVERAGE(cluster_1, cluster_2))",
      "metadata": {
        "trusted": true
      },
      "outputs": [
        {
          "name": "stdout",
          "text": "2.073819241208312\n11.142307311857627\n7.049935775900491\n",
          "output_type": "stream"
        }
      ],
      "execution_count": 54
    },
    {
      "cell_type": "markdown",
      "source": "### Exercice TP : Calcul de l'inertie intra-cluster\n\nPour chacun des 3 clusters suivants, calculez l'inertie du cluster avec la distance euclidienne.\n\n- cl1={(3), (9), (2), (1), (5)}\n- cl2={(3,4), (9,2), (3,6)}\n- cl3={(3,5,8,4), (3,7,10,-1), (3,6,6,3)}",
      "metadata": {
        "tags": []
      }
    },
    {
      "cell_type": "markdown",
      "source": "### Exercice TP : Calcul de l'inertie intra-cluster",
      "metadata": {
        "tags": []
      }
    },
    {
      "cell_type": "markdown",
      "source": "1. Définissez une fonction inertieIntraCluster calculant l'inertie intra-cluster,\n2. Vérifiez votre en fonction en comparant son résultat aux calculs à la main faits dans l'exercice précédent,\n3. Calculez l'inertie intra-cluster des 2 clusters d'étudiants (représentés par leur moyennes aux U1 et UE2) donnés dans les fichiers suivants:\n- `datasets/dataset_cluster_1.json`\n- `datasets/dataset_cluster_2.json`",
      "metadata": {}
    },
    {
      "cell_type": "code",
      "source": "def inertie(c):\n    return sum([distEuclidienne(x, centroid(c))**2 for x in c])\n\n\nc1 = [[3], [9], [2], [1], [5]]\nc2 = [[3, 4], [9, 2], [3, 6]]\nc3 = [[3, 5, 8, 4], [3, 7, 10, -1], [3, 6, 6, 3]]\n\nprint(inertie(c1))\nprint(inertie(c2))\nprint(inertie(c3))\n",
      "metadata": {
        "trusted": true
      },
      "outputs": [
        {
          "name": "stdout",
          "text": "[40.]\n32.00000000000001\n2.0\n",
          "output_type": "stream"
        }
      ],
      "execution_count": 85
    },
    {
      "cell_type": "markdown",
      "source": "### Exercice TD : Calcul de l'inertie d'une partition",
      "metadata": {
        "tags": []
      }
    },
    {
      "cell_type": "markdown",
      "source": "Calculez l'inertie de la partition des points de dimension 2 suivante :\n\n$$\\mathcal{C}=\\{c_1, c_2, c_3\\} $$\n\navec:\n\n- $c_1 = \\{(1,1),(1.5,0.5)\\}$\n- $c_2 = \\{(3,-4),(4,-4),(3,-3)\\}$\n- $c_3 = \\{(-2,5),(-3,3)\\}$",
      "metadata": {}
    },
    {
      "cell_type": "markdown",
      "source": "### Exercice TP : Programmation et calcul de l'inertie d'une partition",
      "metadata": {
        "tags": []
      }
    },
    {
      "cell_type": "markdown",
      "source": "1. Définissez des fonctions inertieIntraClasses,  inertieInterClasses  et inertie calculant respectivement les inerties intra-classes, inter-classes et totale d'une partition $\\mathcal{C}$.\n2. Vérifiez vos fonctions en comparant son résultat aux calculs à la main faits dans l'exercice précédent,\n3. Calculez l'inertie totale de la partition constituée des 2 clusters définis dans les fichiers suivants :\n    - `datasets/dataset_cluster_1.json`\n    - `datasets/dataset_cluster_2.json`",
      "metadata": {}
    }
  ]
}