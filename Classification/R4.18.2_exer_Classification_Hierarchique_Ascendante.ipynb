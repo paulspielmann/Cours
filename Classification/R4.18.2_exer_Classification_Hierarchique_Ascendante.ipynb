{
 "cells": [
  {
   "cell_type": "markdown",
   "metadata": {},
   "source": [
    "# Clustering - Partitionnement de données - *Exercices Corrigés*\n",
    "*PASS 2022-2023*"
   ]
  },
  {
   "cell_type": "markdown",
   "metadata": {},
   "source": [
    "## Ressources"
   ]
  },
  {
   "cell_type": "markdown",
   "metadata": {},
   "source": [
    "### Sites web"
   ]
  },
  {
   "cell_type": "markdown",
   "metadata": {},
   "source": [
    "- [Matplotlib](https://matplotlib.org/)\n",
    "- [Scikit learn](https://scikit-learn.org/stable/index.html)\n",
    "- [NumPy](https://numpy.org/)"
   ]
  },
  {
   "cell_type": "markdown",
   "metadata": {
    "heading_collapsed": true,
    "tags": []
   },
   "source": [
    "### Exercice TD : Construction d'un dendrogramme"
   ]
  },
  {
   "cell_type": "markdown",
   "metadata": {},
   "source": [
    "Soient le jeu de données :\n",
    "$$\\mathcal{D} = \\{x_1, x_2, x_3, x_4, x_5, x_6\\}=\\{(1,1),(1.5,0.5),(3,-4),(4,-4),(3,-3),(-2,5)\\}$$\n",
    "Construisez le dendrogramme du clustering hiérarchique de ce jeu de données en utilisant comme distance entre points la distance euclidienne et comme distance de linkage la distance SINGLE.\n",
    "\n",
    "On pourra utiliser une fonction pour calculer les distances euclidiennes entre chaque paires de points."
   ]
  },
  {
   "cell_type": "markdown",
   "metadata": {
    "heading_collapsed": true
   },
   "source": [
    "### Exercice TP : Programmation du clustering hiérarchique"
   ]
  },
  {
   "cell_type": "markdown",
   "metadata": {},
   "source": [
    "1. Programmez la fonction `cha(points, k, distanceFunction, linkageFunction)` permettant de produire les `k` clusters par agglomération hiérarchique utilisant la fonction de distance entre points passée en paramètre `distanceFunction` et la fonction de calcul des distances entre clusters passée en paramètre `linkageFunction`.\n",
    "\n",
    "2. Vérifiez votre fonction sur le jeu de données de l'exercice précédent."
   ]
  },
  {
   "cell_type": "markdown",
   "metadata": {
    "heading_collapsed": true,
    "tags": []
   },
   "source": [
    "### Exercice TP : Comparer les effets de la fonction de distance inter-cluster"
   ]
  },
  {
   "cell_type": "markdown",
   "metadata": {
    "hidden": true
   },
   "source": [
    "Étudiez l'effet du changement de la fonction de distance inter-cluster sur une classification hiérarchique.\n",
    "\n",
    "Pour cela vous testerez les fonctions de distance inter-cluster [SINGLE] et [COMPLETE] sur les données contenues dans le fichier `datasets/dataset_hca_td1.json`.\n",
    "\n",
    "Pour vous guider dans le code, vous trouverez ci-dessous une exemple de calcul et de représentation d'un clustering hiérarchique sur le jeux de données correspondant à l'exemple du cours utilisant les pakages python spécialisés dans ces tâches."
   ]
  },
  {
   "cell_type": "markdown",
   "metadata": {
    "heading_collapsed": true,
    "hidden": true
   },
   "source": [
    "#### Exemple de code"
   ]
  },
  {
   "cell_type": "markdown",
   "metadata": {
    "hidden": true
   },
   "source": [
    "Chargement des librairies:"
   ]
  },
  {
   "cell_type": "code",
   "execution_count": 29,
   "metadata": {
    "hidden": true
   },
   "outputs": [],
   "source": [
    "import json\n",
    "import numpy as np\n",
    "from santini import plot_dendrogram\n",
    "from sklearn.cluster import AgglomerativeClustering\n",
    "import matplotlib.pyplot as plt"
   ]
  },
  {
   "cell_type": "markdown",
   "metadata": {
    "hidden": true
   },
   "source": [
    "Chargement des données à analyser:"
   ]
  },
  {
   "cell_type": "code",
   "execution_count": 30,
   "metadata": {
    "hidden": true
   },
   "outputs": [],
   "source": [
    "with open('datasets/dataset_hca_cours.json', 'r') as json_file:\n",
    "    D = np.array(json.load(json_file))"
   ]
  },
  {
   "cell_type": "markdown",
   "metadata": {
    "hidden": true
   },
   "source": [
    "Réalisation de la classification:"
   ]
  },
  {
   "cell_type": "code",
   "execution_count": 31,
   "metadata": {
    "hidden": true
   },
   "outputs": [],
   "source": [
    "model = AgglomerativeClustering(n_clusters=3, compute_distances=True, linkage=\"ward\", affinity=\"euclidean\")\n",
    "clustering = model.fit(D)"
   ]
  },
  {
   "cell_type": "markdown",
   "metadata": {
    "hidden": true
   },
   "source": [
    "Représentation du dendograme:"
   ]
  },
  {
   "cell_type": "code",
   "execution_count": 32,
   "metadata": {
    "hidden": true
   },
   "outputs": [
    {
     "data": {
      "image/png": "[encoded data removed]",
      "text/plain": [
       "<Figure size 432x288 with 1 Axes>"
      ]
     },
     "metadata": {
      "needs_background": "light"
     },
     "output_type": "display_data"
    }
   ],
   "source": [
    "# setting distance_threshold=0 ensures we compute the full tree.\n",
    "plt.title('Hierarchical Clustering Dendrogram')\n",
    "# plot the top three levels of the dendrogram\n",
    "plot_dendrogram(clustering, truncate_mode=None, color_threshold=4) \n",
    "plt.show()"
   ]
  },
  {
   "cell_type": "markdown",
   "metadata": {
    "hidden": true
   },
   "source": [
    "Affichage du numéro du cluster auquel appartient chaque point du jeu de données à l'issue de la classification:"
   ]
  },
  {
   "cell_type": "code",
   "execution_count": 33,
   "metadata": {
    "hidden": true
   },
   "outputs": [
    {
     "data": {
      "text/plain": [
       "array([2, 2, 0, 0, 1, 1, 0])"
      ]
     },
     "execution_count": 33,
     "metadata": {},
     "output_type": "execute_result"
    }
   ],
   "source": [
    "clustering.labels_"
   ]
  },
  {
   "cell_type": "markdown",
   "metadata": {
    "heading_collapsed": true,
    "hidden": true
   },
   "source": [
    "#### Préparation du jeu de données"
   ]
  },
  {
   "cell_type": "code",
   "execution_count": null,
   "metadata": {
    "hidden": true
   },
   "outputs": [],
   "source": [
    "import json\n",
    "\n",
    "data = [\n",
    "    [ 0, 1],\n",
    "    [ 0.4,1.4],\n",
    "    [ 1, 2],\n",
    "    [ 2.1, 2],\n",
    "    [ 2.7, 3],\n",
    "    [ 3.1, 3.9]\n",
    "]\n",
    "\n",
    "with open('datasets/dataset_hca_td1.json', 'w') as json_file:\n",
    "    json.dump(data, json_file)"
   ]
  },
  {
   "cell_type": "markdown",
   "metadata": {
    "hidden": true
   },
   "source": [
    "#### Question 1"
   ]
  },
  {
   "cell_type": "markdown",
   "metadata": {
    "hidden": true
   },
   "source": [
    "Importez le jeux de données depuis le fichier `datasets/dataset_hca_td1.json` et représentez les points dans un plan."
   ]
  },
  {
   "cell_type": "markdown",
   "metadata": {
    "hidden": true
   },
   "source": [
    "#### Question 2 :"
   ]
  },
  {
   "cell_type": "markdown",
   "metadata": {
    "hidden": true
   },
   "source": [
    "Réalisez et affichez les classifications (clustering) pour les deux fonctions de distance inter-cluster [SINGLE] et [COMPLETE], avec un nombre de cluster égal à $k=3$ et représentez les dendogrames."
   ]
  },
  {
   "cell_type": "markdown",
   "metadata": {
    "hidden": true
   },
   "source": [
    "#### Question 3"
   ]
  },
  {
   "cell_type": "markdown",
   "metadata": {
    "hidden": true
   },
   "source": [
    "Analysez les différences entre les aggrégations aobtenues avec les différentes fonctions de distance. "
   ]
  },
  {
   "cell_type": "markdown",
   "metadata": {},
   "source": [
    "## Exercice TD : Déroulement du KMeans"
   ]
  },
  {
   "cell_type": "markdown",
   "metadata": {},
   "source": [
    "Soit le jeu de données : \n",
    "$$\\mathcal{D}=\\{(1),(3),(8),(10),(15),(17)\\}$$\n",
    "Déroulez l'algorithme du KMeans pour k=3 avec pour centroïdes initiaux :\n",
    "$$\\mathcal{M}_O=\\left\\{\\mu _1,\\mu _2,\\mu _3\\right\\}=\\{(0),(7),(11)\\}$$"
   ]
  },
  {
   "cell_type": "markdown",
   "metadata": {},
   "source": [
    "## Exercice TP : Programmation du k-mean"
   ]
  },
  {
   "cell_type": "markdown",
   "metadata": {},
   "source": [
    "Programmez une version du k-mean qui stope les itérations lorsque la vrai convergence (les centroides ne changent plus) ou lorsqu'un nombre d'itérations maximal est atteint. Vous testerez ce programme sur un jeu de données simple (qui converge rapidement). Vous n'utiliserez pas les fonctions fournies par les packages scikitlearn ou autres."
   ]
  },
  {
   "cell_type": "markdown",
   "metadata": {},
   "source": [
    "### Question 1:"
   ]
  },
  {
   "cell_type": "markdown",
   "metadata": {},
   "source": [
    "Définir une fonction `pos_nearest(pt, centers)` qui prend en paramètre un point `pt` et un tableau de points `centers` et qui retourne l'indice de position du point du tableau `centers` dont le point `pt` est le plus proche. "
   ]
  },
  {
   "cell_type": "markdown",
   "metadata": {},
   "source": [
    "### Question 2:"
   ]
  },
  {
   "cell_type": "markdown",
   "metadata": {},
   "source": [
    "Définir une fonction `centroids( partition)` qui prend en paramètre une partition ( une tableau de clusters - ie. un tableau de tableaux de points) et qui retourne le tableau des barycentres des clusters."
   ]
  },
  {
   "cell_type": "markdown",
   "metadata": {},
   "source": [
    "### Question 3:"
   ]
  },
  {
   "cell_type": "markdown",
   "metadata": {},
   "source": [
    "Définir une fonction `partition( dataset, centers)` qui prend en paramètre un jeu de données `dataset` et un tableau de centres de clusters `centers` et qui renvoie la partition des points du jeu de donnée en associant chaque point au cluster dont il est le plus proche du centre."
   ]
  },
  {
   "cell_type": "markdown",
   "metadata": {},
   "source": [
    "### Question 4:"
   ]
  },
  {
   "cell_type": "markdown",
   "metadata": {},
   "source": [
    "Proposez une fonction `kmeans( dataset, k)` qui prend en paramètre un jeu de données `dataset` et `k` le nombre de clusters à former et retourne la classification des points après convergence (plus rien ne change)."
   ]
  },
  {
   "cell_type": "markdown",
   "metadata": {},
   "source": [
    "### Question 5:"
   ]
  },
  {
   "cell_type": "markdown",
   "metadata": {},
   "source": [
    "Testez votre programme sur le jeu de données du cours."
   ]
  },
  {
   "cell_type": "markdown",
   "metadata": {
    "tags": []
   },
   "source": [
    "## Exercice TP : Application du k-mean"
   ]
  },
  {
   "cell_type": "markdown",
   "metadata": {},
   "source": [
    "Le pakage `sklearn` permet d'exécuter le KMeans. Voici un exemple d'exécution sur l'exemple du cours avec représentation des clusters :"
   ]
  },
  {
   "cell_type": "code",
   "execution_count": 38,
   "metadata": {},
   "outputs": [],
   "source": [
    "import matplotlib.pyplot as plt\n",
    "from sklearn.cluster import KMeans\n",
    "\n",
    "\n",
    "dataset = [[1, 6], [1, 7], [1, 8], [3, 3], [3, 4], [4, 2], [5, 2], [6, 3], [7, 3], [9, 6], [9, 7], [9, 8]]\n",
    "\n",
    "classif = KMeans(n_clusters=3).fit_predict(dataset)\n",
    "\n",
    "plt.xlim(0., 20.)\n",
    "plt.ylim(0., 20.)\n",
    "plt.grid()\n",
    "plt.scatter([p[0] for p in dataset], [p[1] for p in dataset], s=20, c=classif)\n",
    "\n",
    "plt.show()"
   ]
  },
  {
   "cell_type": "markdown",
   "metadata": {
    "tags": []
   },
   "source": [
    "### Question 1: Appliquer le KMeans aux jeux de données du cours 1\n",
    "- `dataset_identification_clusters_4.json`\n",
    "- `dataset_identification_clusters_1.json`\n",
    "- `dataset_identification_clusters_2.json`\n",
    "- `dataset_identification_clusters_3.json`"
   ]
  },
  {
   "cell_type": "markdown",
   "metadata": {},
   "source": [
    "### Question 2:\n",
    "Appliquer le KMeans aux jeux de données des iris (https://www.kaggle.com/datasets/uciml/iris) sur les 4 descripteurs quantitatifs.\n",
    "\n",
    "Comparez le resultat obtenu par le KMeans avec k=3 à la classification exacte donnée dans la dernière colonne du fichier."
   ]
  }
 ],
 "metadata": {
  "kernelspec": {
   "display_name": "Python 3 (ipykernel)",
   "language": "python",
   "name": "python3"
  },
  "language_info": {
   "codemirror_mode": {
    "name": "ipython",
    "version": 3
   },
   "file_extension": ".py",
   "mimetype": "text/x-python",
   "name": "python",
   "nbconvert_exporter": "python",
   "pygments_lexer": "ipython3",
   "version": "3.10.9"
  }
 },
 "nbformat": 4,
 "nbformat_minor": 4
}
