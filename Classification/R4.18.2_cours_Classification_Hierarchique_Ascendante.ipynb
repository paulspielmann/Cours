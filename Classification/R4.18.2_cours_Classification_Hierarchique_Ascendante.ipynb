{
 "cells": [
  {
   "cell_type": "markdown",
   "metadata": {},
   "source": [
    "# Clustering - Partitionnement de données\n",
    "*PASS 2022-2023*"
   ]
  },
  {
   "cell_type": "markdown",
   "metadata": {},
   "source": [
    "## Classification ascendante hiérarchique (CAH)"
   ]
  },
  {
   "cell_type": "markdown",
   "metadata": {},
   "source": [
    "### Principe de l'approche"
   ]
  },
  {
   "cell_type": "markdown",
   "metadata": {},
   "source": [
    "Le principe de la Classification Hiérarchique Ascendante [Wikipedia](https://fr.wikipedia.org/wiki/Regroupement_hi%C3%A9rarchique) consiste à regrouper les éléments par fusion itérative de clusters.\n",
    "\n",
    "Il s'agit donc d'une approche agglomérative lors de laquelle, à chaque étape, les deux clusters les plus proches sont fusionnés.\n",
    "\n",
    "Pour réaliser cela, il faut déterminer:\n",
    "   - la forme des clusters initiaux,\n",
    "   - la métrique permettant de claculer la distance entre les clusters."
   ]
  },
  {
   "cell_type": "markdown",
   "metadata": {},
   "source": [
    "### Le principe générale de l'algotithme est le suivant:\n",
    "- Au départ chaque point du jeu de données défini un cluster ne contenant qu'un seul point,\n",
    "- Ensuite, itérativement, l'algorithme procède à la fusion des clusters les plus proches en utulisant la distance en cluster choisie.\n",
    "- Le programme s'arrête lorsque le nombre de clusters atteint la limite $k$ spécifiée en paramètre de l'algorithme.\n",
    "\n",
    "<img src=img/figure_CAH_algo.png></br>"
   ]
  },
  {
   "cell_type": "markdown",
   "metadata": {},
   "source": [
    "### Remarques\n",
    "\n",
    "<span style=\"color:midnightblue\">\n",
    "\n",
    "<u>**Remarque 1 :**</u>\n",
    "\n",
    "Si $k=1$ le cluster final contient tous les points.\n",
    "\n",
    "<u>**Remarque 2 :**</u>\n",
    "\n",
    "Les fusions entres clusters sont généralement représentées sous forme d'un *dendrogramme*. Il s'agit d'un arbre dont:\n",
    "   - les feuilles représentent les données à regrouper,\n",
    "   - les noeuds représentent des clusters issus des fusions successives. Chaque cluster contient l'ensemble des points (feuilles) qui sont des descendants du noeud correspondant.\n",
    "   \n",
    "Classiquement, dans ce type de représentation, les arrêtes entre 2 cluster enfants $c_i$, $c_j$ (ceux qui sont regroupés) et le cluster parent $c_{i\\_j}$ (celui qui représente le regroupement), ont une hauteur proportionnelle à la distance entre les deux clusters enfants fusionnés $c_i$, $c_j$.\n",
    "</span>"
   ]
  },
  {
   "cell_type": "markdown",
   "metadata": {},
   "source": [
    "### Exemple de déroulement"
   ]
  },
  {
   "cell_type": "markdown",
   "metadata": {},
   "source": [
    "<span style=\"color:indianred\">\n",
    "\n",
    "<u>***Cas d'étude:***</u>\n",
    "\n",
    "Soit un jeu de données $\\mathcal{D}$ contenant $N=7$ étudiants $\\mathcal{D}=\\{x_i \\}_{i\\in 1..7}$ décrits par les moyennes de $d=2$ UE.\n",
    "\n",
    "<u>Initialisation de la procédure:</u>\n",
    "    \n",
    "On initialise la partition $C_0$ avec 7 clusters contenant chacun un des 7 étudiants du jeu de données $\\mathcal{D}$  :\n",
    "\\begin{align}\n",
    "    \\left|C_0\\right| &= \\{ c_1,\\; c_2,\\; c_3,\\; c_4,\\; c_5,\\; c_6,\\; c_7\\}\\\\\n",
    "      &= \\{ \\{x_1\\},\\; \\{x_2\\},\\; \\{x_3\\},\\; \\{x_4\\},\\; \\{x_5\\},\\; \\{x_6\\},\\; \\{x_7\\}\\}\n",
    "\\end{align}\n",
    "\n",
    "<u>Itération 1:</u>\n",
    "- $\\left|\\mathcal{C_0}\\right| = 7 > k$,\n",
    "- Les distances entre chaque clusters (deux à deux), sont calculées (représentée ci-dessous dans la matrice de distances).\n",
    "- Ces calculs mettent en écidence que les clusters $c_1$ et $c_2$ sont les clusters les plus proches avec une distance inter-cluster $dist(c_1, c_2)=0.7$\n",
    "- Les cluster $c_1$ et $c_2$ fusionnent en un cluster unique $c_{1,2}$ au terme de cette itération.\n",
    "\n",
    "<img src=\"./img/CAH_0.png\" width=\"80%\"></br>\n",
    "On met à jour la partition :\n",
    "$C_1=\\{ \\; c_3,\\; c_4,\\; c_5,\\; c_6,\\; c_7, c_{1,2}\\}=\\{ \\{x_3\\},\\; \\{x_4\\},\\; \\{x_5\\},\\; \\{x_6\\},\\; \\{x_7\\},\\; \\{x_1,x_2\\}\\}$\n",
    "</span>"
   ]
  },
  {
   "cell_type": "markdown",
   "metadata": {},
   "source": [
    "<span style=\"color:indianred\">\n",
    "\n",
    "<u>Itération 2:</u>\n",
    "\n",
    "- $\\left|\\mathcal{C_1}\\right| = 6 > k$,\n",
    "- Les distances entre chaque clusters (deux à deux), sont calculées (représentée ci-dessous dans la matrice de distances).\n",
    "- Ces calculs mettent en écidence que les clusters $c_4$ et $c_7$ sont les clusters les plus proches avec une distance inter-cluster $dist(c_4, c_7)=1.1$\n",
    "- Les cluster $c_4$ et $c_7$ fusionnent en un cluster unique $c_{4,7}$ au terme de cette itération.\n",
    "\n",
    "<img src=\"./img/CAH_1.png\" width=\"80%\"></br>\n",
    "On met à jour la partition :\n",
    "$C_2=\\{ c_3,\\; c_5,\\; c_6,\\; c_{1,2},\\; c_{4,7}\\}=\\{ \\{x_3\\},\\; \\{x_5\\},\\; \\{x_6\\},\\; \\{x_1,x_2\\},\\; \\{x_4, x_7\\}\\}$\n",
    "</span>"
   ]
  },
  {
   "cell_type": "markdown",
   "metadata": {},
   "source": [
    "<span style=\"color:indianred\">\n",
    "\n",
    "<u>Itération 3:</u>\n",
    "\n",
    "- $\\left|\\mathcal{C_2}\\right| = 5 > k$,\n",
    "- Les distances entre chaque clusters (deux à deux), sont calculées (représentée ci-dessous dans la matrice de distances).\n",
    "- Ces calculs mettent en écidence que les clusters $c_5$ et $c_6$ sont les clusters les plus proches avec une distance inter-cluster $dist(c_5, c_6)=1.7$\n",
    "- Les cluster $c_5$ et $c_6$ fusionnent en un cluster unique $c_{5,6}$ au terme de cette itération.\n",
    "\n",
    "<img src=\"./img/CAH_2.png\" width=\"80%\"></br>\n",
    "On met à jour la partition :\n",
    "$C_3=\\{ c_3,\\; c_{1,2},\\; c_{4,7},\\; c_{5,6}\\}=\\{ \\{x_3\\},\\; \\{x_1,x_2\\},\\; \\{x_4, x_7\\},\\; \\{x_5,x_6\\}\\}$\n",
    "</span>"
   ]
  },
  {
   "cell_type": "markdown",
   "metadata": {},
   "source": [
    "<span style=\"color:indianred\">\n",
    "\n",
    "<u>Itération 4:</u>\n",
    "\n",
    "- $\\left|\\mathcal{C_3}\\right| = 4 > k$,\n",
    "- Les distances entre chaque clusters (deux à deux), sont calculées (représentée ci-dessous dans la matrice de distances).\n",
    "- Ces calculs mettent en écidence que les clusters $c_3$ et $c_{4,7}$ sont les clusters les plus proches avec une distance inter-cluster $dist(c_3, c_{4,7})=3.8$\n",
    "- Les cluster $c_3$ et $c_{4,7}$ fusionnent en un cluster unique $c_{3,4,7}$ au terme de cette itération.\n",
    "\n",
    "<img src=\"./img/CAH_3.png\" width=\"80%\"></br>\n",
    "On met à jour la partition :\n",
    "$C_4=\\{ c_{1,2},\\; c_{5,6},\\; c_{3,4,7}\\}=\\{ \\{x_1,x_2\\},\\; \\{x_5,x_6\\},\\; \\{x_3, x_4, x_7\\}\\}$\n",
    "\n",
    "\n",
    "et ainsi de suite tant qu'il reste des clusters a fusioner...\n",
    "<img src=\"./img/CAH_4.png\" width=\"80%\"></br>\n",
    "<img src=\"./img/CAH_5.png\" width=\"80%\"></br>\n",
    "<img src=\"./img/CAH_6.png\" width=\"80%\"></br>\n",
    "\n",
    "</span> "
   ]
  },
  {
   "cell_type": "markdown",
   "metadata": {
    "tags": []
   },
   "source": [
    "### L'algorithme"
   ]
  },
  {
   "cell_type": "markdown",
   "metadata": {},
   "source": [
    "<u>**Input**</u>\n",
    "- $\\mathcal{D}$ un jeu de données\n",
    "- dist une fonction de distance entre classes/clusters\n",
    "- $k$ le nombre de classe à former.\n",
    "\n",
    "<u>**Output**</u>\n",
    "- une classification $\\mathcal{C}$ contenant $k$ classes/clusters\n",
    "\n",
    "<u>**Algorithme**</u>\n",
    "- Initialisation: Chaque élément du jeu de données $\\mathcal{D}$ forme un cluster:<br>$\\mathcal{C}=\\{ c_i = \\{x_i\\}\\}_{x_i\\in \\mathcal{D}}$\n",
    "\n",
    "- Tant que $\\left|\\mathcal{C}\\right| \\gt k$\n",
    "    - Calculer $M$ la matrice de distance entre chaque couple $(c_k,cl) \\in C^2$<br>$M = (m_{i,j})$ avec $m_{(i,j)}=dist(c_i,c_j)$ et $(c_i,c_j)\\in \\mathcal{C}^2$\n",
    "    - identifier au moyen de $M$ les deux clusters $(i,j)$ les plus proches:\n",
    "$$\\underset{i,j, i\\neq j}{\\text{arg min }} dist(c_i,c_j)$$\n",
    "    - fusionner les deux clusters les plus proches $c_{i}, c_{j}$<br>\n",
    "    $$c_{i,j} =c_{i} \\cup c_{j}$$\n",
    "    - Mettre à jour la liste des clusters en retirant les clusters $c_{i}$ et $c_{j}$ qui ont fusionnés et en ajoutant le cluster fusionné $c_{i,j}$:\n",
    "    $$\\mathcal{C} = (\\mathcal{C} \\backslash \\{c_{i},c_{j}\\} ) \\cup \\{c_{i,j}\\})$$"
   ]
  },
  {
   "cell_type": "markdown",
   "metadata": {},
   "source": [
    "<span style=\"color:darkgreen\">\n",
    "    \n",
    "<u>**Exercice(s) :**</u>\n",
    "\n",
    "- Exercice TD : Construction d'un dendrogramme\n",
    "- Exercice TP: Programmation du clustering hiérarchique\n",
    "- Exercice TP: Comparer les effets de la fonction de distance inter-cluster\n",
    "</span>"
   ]
  },
  {
   "cell_type": "markdown",
   "metadata": {},
   "source": [
    "### Défintion du nombre de clusters"
   ]
  },
  {
   "cell_type": "markdown",
   "metadata": {},
   "source": [
    "Plusieurs startégies peuvent être employées pour fixer le nombre de classes (clusters):\n",
    "- fixer le nombre de clusters $k$ *a priori* (comme cela est présenté *supra*),\n",
    "- fixer un seuil de distance: en modifiant légèrement l'algorithme précédant il est possible de stopper les aggrégations dès qu'une distance seuil inter-clusters est atteinte. Le nombre $k$ de clusters n'a alors pas à être défini."
   ]
  },
  {
   "cell_type": "markdown",
   "metadata": {},
   "source": [
    "## Clustering par partitionnement : K-Means"
   ]
  },
  {
   "cell_type": "markdown",
   "metadata": {},
   "source": [
    "### Objectif de l'approche"
   ]
  },
  {
   "cell_type": "markdown",
   "metadata": {},
   "source": [
    "Le clustering par partionnement consiste à trouver une partition optimisant un critère de qualité.\n",
    "\n",
    "Nous ne traiterons ici que des approches pour lesquelles le nombre de partitions à trouver sont fixées *a priori* et pour lesquelles les partitions sont non recouvrantes (un point ne peut appartenir à plusieurs clusters).\n",
    "\n",
    "Donc, étant donné:\n",
    "- $\\mathcal{D}=\\{x_i \\in \\mathbb{R}^d \\}_{i=1..N}$ un ensemble de $N$ points de dimensions $d$ format le jeux de données $\\mathcal{D}$ a partitionner,\n",
    "- $k$ le nombre de clusters de la partition $C=\\{c_i\\}_{i=1..k}$ avec $k\\leq N$\n",
    "- $Q$ une fonction de qualité à optimiser\n",
    "\n",
    "L'objectif est de déterminer la meilleure partition $C$ au sens du critère de qualité de la fonction $Q$ en $k$ clusters."
   ]
  },
  {
   "cell_type": "markdown",
   "metadata": {},
   "source": [
    "### Approche exacte"
   ]
  },
  {
   "cell_type": "markdown",
   "metadata": {},
   "source": [
    "Une approche exacte garantie que l'on obtient la meilleurs solution.\n",
    "\n",
    "Pour le problème de partitionnement qui nous occupe, cela demande:\n",
    "1. de construire toutes les partitions possibles\n",
    "2. évaluer la qualité de chaque partionnement (clustering) pour ne retenir que la meilleure.\n",
    "\n",
    "Le problème avec cette approche est qu'elle est rapidement inenvisageable lorsque le nombre de points à partitionner augmente.\n",
    "\n",
    "En effet, le nombre de partitions augment exponentiellement (il est défini par le nombre de Stirling de seconde espèce):\n",
    "\n",
    "$$ \\#Clusters = \\frac{1}{k!} \\sum_{i=1}^{k} (-1)^{k-i} C^{k}_{i} i^N $$\n",
    "\n",
    "Ainsi, \n",
    "- pour $N=10$ et $k=4$ on a $$\\#Clusters = 34.105$$\n",
    "- pour $N=20$ et $k=4$ on a $$\\#Clusters = 45.232.115.901$$\n",
    "- pour $N=30$ et $k=4$ on a $$\\#Clusters = 48.004.081.105.038.305$$\n",
    "- pour $N=100$ et $k=4$ on a $$\\#Clusters = 66.955.751.844.038.698.560.793.085.292.692.610.900.187.911.879.206.859.351.901$$\n",
    "\n",
    "Il parait donc évident que l'approche exacte n'est pas adapée pour les jeux de données usuels, même de petite taille, car le nombre de calculs à faire n'est pas réalisable, même pour le plus puissant des ordinateurs.\n",
    "\n",
    "Il est donc nécessaire de mettre en place une approche heuristique permettant d'obtenir une bonne partition (qui n'est donc pas forcement la meilleure) dans un temps raisonable."
   ]
  },
  {
   "cell_type": "markdown",
   "metadata": {},
   "source": [
    "### Principe de l'algorithme du K-means (K-Moyennes)"
   ]
  },
  {
   "cell_type": "markdown",
   "metadata": {},
   "source": [
    "L'algorithme du k-means (k-moyennes) [Wikipedia](https://fr.wikipedia.org/wiki/K-moyennes) est un algorithme de de partitionnement paramétrable permettant souvent l'obtention de bonnes partitions des données.\n",
    "\n",
    "Cet algorthime utilise comme mesure de qualité d'un partitionnement l'inertie intra-classes de la partition. On rappelle que cette intertie est calculée comme la somme des inerties intra-classes de tous les clusters:\n",
    "\n",
    "\\begin{align}\n",
    "J_{W} & = \\sum_{C_k \\in \\mathcal{C}} J_k\\\\\n",
    "    & = \\sum_{C_k \\in \\mathcal{C}} \\sum_{x\\in C_k}dist^2(x,\\mu_k)\n",
    "\\end{align}\n",
    "\n",
    "Cet algorithme:\n",
    "1. évite une énumération de toutes les partitions possibles\n",
    "2. utilise une approche heuristique permettant l'obtention d'une bonne partition (au sens de la minimisation de $J_{W}$) par convergence.\n",
    "\n",
    "Le principe de l'algorithme consiste à trouver k clusters minimisant la distances entre les points de chaque clusters.\n",
    "\n",
    "Il proçède de la façon suivante:\n",
    "- si l'on connait les centres de gravité $\\mu_k$ des $k$ clusters $\\{c_j\\}_{j=1..k}$:\n",
    "    - on affecte chaque point $x_i$ au cluster $c_j$ dont il est le plus proche (au sens de la distance entre $x_i$ et $\\mu_j$)\n",
    "    - une fois tous les points attribué à un cluster on recalcule les centres de gravités $\\mu_j$ de chaque cluster comme le barycentre des points du cluster $c_j$\n",
    "On réitère cette opération jusqu'à convergence."
   ]
  },
  {
   "cell_type": "markdown",
   "metadata": {},
   "source": [
    "<span style=\"color:midnightblue\">\n",
    "\n",
    "<u>**Remarque 1 :**</u>\n",
    "\n",
    "Pour que cet algorithme fonctionne il faut lui fournir au départ autant de centre de gravité qu'il y a de clusters.\n",
    "Cette étape s'appelle l'initialisation.\n",
    "Il est important de noter que le choix des centres de gravité initiaux peut dans certaines situations fortement conditionner le contenu final des clusters. Autrement dit, des centres de gravité initiaux différents peuvent conduire à des clustering différents...\n",
    "\n",
    "<u>**Remarque 2 :**</u>\n",
    "\n",
    "C'est en général la *distance euclidienne* $dist_E(x_i,c_j)$ qui est utilisée pour identifier le cluster le plus proche d'un point.\n",
    "\n",
    "<u>**Remarque 3 :**</u>\n",
    "\n",
    "La convergence est obtenue lorsque deux itérations successives ne modifient plus les centres des clusters. Toutefois, cette convergence peux être longue à atteindre. Afin d'obtenir une partition dans un délais raisonable il peut donc être utile d'introduire un critére de convergence, qui lorsqu'il est atteint stope le calcul.\n",
    "\n",
    "Les critères de convergence qui permettent de stoper les itérations de cette heuristique qui sont généralement choisis: \n",
    "- atteindre une valeur seuil $\\epsilon$ de l'inertie intra-classe $||J_W||$ de la partition à atteindre,\n",
    "- atteindre une valeur seuil $\\epsilon2$ de la variation de l'inertie intra-classe entre 2 itérations successives $||J_W^{n} - J_W^{n+1}||$ de l'algorithme,\n",
    "- la plus fréquente consiste à borner le nombre d'itération : si la convergence n'est pas atteinte au bout de $max{iter} pas on stoppe et on retourne le clustering ainsi obtenu.\n",
    "</span>"
   ]
  },
  {
   "cell_type": "markdown",
   "metadata": {},
   "source": [
    "### Exemple de déroulement"
   ]
  },
  {
   "cell_type": "markdown",
   "metadata": {},
   "source": [
    "<span style=\"color:indianred\">\n",
    "\n",
    "<u>***Cas d'étude:***</u>\n",
    "\n",
    "Nous reprendrons ici le cas d'étude utilisé lors de la présentation de la classification hiérarchique ascendante.\n",
    "\n",
    "Soit un jeu de données $\\mathcal{D}$ contenant $N=12$ étudiants \n",
    "$$\\mathcal{D}=\\left\\{x_i\\right\\}_{12 (i\\in 1\\text{..})}=\\left\\{x_1,x_2,x_3,x_4,x_5,x_6,x_7,x_8,x_9,x_{10},x_{11},x_{12}\\right\\}$$\n",
    "où chaque étudiant est décrit par les moyennes de $d=2$ UE. On a : \n",
    "$$\\mathcal{D}=\\{(1 , 6 ),(1 , 7 ),(1 , 8 ),(3 , 3 ),(3 , 4 ),(4 , 2 ),(5 , 2 ),(6 , 3 ),(7 , 3 ),(9 , 6 ),(9 , 7 ),(9 , 8 )\\}$$\n",
    "Chaque étudiant est représenté dans le plan par un point en 2D. Voici une représentation des étudiants :\n",
    "</span>"
   ]
  },
  {
   "cell_type": "code",
   "execution_count": 5,
   "metadata": {},
   "outputs": [
    {
     "data": {
      "image/png": "[encoded data removed]",
      "text/plain": [
       "<Figure size 640x480 with 1 Axes>"
      ]
     },
     "metadata": {},
     "output_type": "display_data"
    }
   ],
   "source": [
    "import matplotlib.pyplot as plt\n",
    "\n",
    "D=[(1,6),(1,7),(1,8),(3,3),(3,4),(4,2),(5,2),(6,3),(7,3),(9,6),(9,7),(9,8)]\n",
    "\n",
    "plt.scatter([pt[0] for pt in D], [pt[1] for pt in D])\n",
    "plt.grid()\n",
    "plt.show()"
   ]
  },
  {
   "cell_type": "markdown",
   "metadata": {},
   "source": [
    "<span style=\"color:indianred\">\n",
    "On va fixer $k = 3$ dans cet exemple. La distance entre points utilisée est la distance euclidienne.</br></br>\n",
    "\n",
    "\n",
    "<u>***Initialisation des centres mobiles*** :</u>    \n",
    "L'étape d'initialisation consiste à définir autant de centroïdes initiaux qu'il a de cluster à former. Ici nous tirons aléatoirement les centroïdes (les coordonnées des centroïdes sont aléatoires). Soit les centroïdes initiaux suivants :\n",
    "$$M=\\{\\mu _1,\\mu _2,\\mu _3\\}=\\{(3,5),(3,10),(8.5,4)\\}$$\n",
    "\n",
    "1. <u>***Itération 1*** :</u>    \n",
    "    1. Calcul de la distance de chaque points à chacun des $k=3$ centroïdes :\n",
    "    \n",
    "    <img src=\"img/ex_km_1_1.png\" width=75%>\n",
    "    \n",
    "    2. Formation des clusters : chaque point $x_i$ de $\\mathcal{D}$ est affecté au cluster $k$ dont si le point est plus proche du centroïde $\\mu_k$ que des autres centroïdes $\\mu_j$ :\n",
    "    \n",
    "    <img src=\"img/ex_km_1_2.png\" width=75%>\n",
    "    \n",
    "    3. Actualisation des positions des centroïdes :\n",
    "    \n",
    "    <img src=\"img/ex_km_1_3.png\" width=45%>\n",
    "    \n",
    "2. <u>***Itération 2*** : Les centroïdes ont été modifiés lors de l'itération donc on continue.</u>    \n",
    "    1. Calcul de la distance de chaque points à chacun des $k=3$ centroïdes :\n",
    "    \n",
    "    <img src=\"img/ex_km_2_1.png\" width=80%>\n",
    "    \n",
    "    2. Formation des clusters : chaque point $x_i$ de $\\mathcal{D}$ est affecté au cluster $k$ dont si le point est plus proche du centroïde $\\mu_k$ que des autres centroïdes $\\mu_j$ :\n",
    "    \n",
    "    <img src=\"img/ex_km_2_2.png\" width=80%>\n",
    "    \n",
    "    3. Actualisation des positions des centroïdes :\n",
    "    \n",
    "    <img src=\"img/ex_km_3_3.png\" width=45%>\n",
    "    \n",
    "3. <u>***Itération 3*** : Les centroïdes ont été modifiés lors de l'itération donc on continue</u>    \n",
    "    1. Calcul de la distance de chaque points à chacun des $k=3$ centroïdes :\n",
    "    \n",
    "    <img src=\"img/ex_km_3_1.png\" width=80%>\n",
    "    \n",
    "    2. Formation des clusters : chaque point $x_i$ de $\\mathcal{D}$ est affecté au cluster $k$ dont si le point est plus proche du centroïde $\\mu_k$ que des autres centroïdes $\\mu_j$ :\n",
    "    \n",
    "    <img src=\"img/ex_km_3_2.png\" width=80%>\n",
    "    \n",
    "    3. Actualisation des positions des centroïdes :\n",
    "    \n",
    "    <img src=\"img/ex_km_3_3.png\" width=45%>\n",
    "    \n",
    "4. <u>***Itération 4*** : Les centroïdes ont été modifiés lors de l'itération donc on continue</u>    \n",
    "    1. Calcul de la distance de chaque points à chacun des $k=3$ centroïdes :\n",
    "    \n",
    "    <img src=\"img/ex_km_4_1.png\" width=75%>\n",
    "    \n",
    "    2. Formation des clusters : chaque point $x_i$ de $\\mathcal{D}$ est affecté au cluster $k$ dont si le point est plus proche du centroïde $\\mu_k$ que des autres centroïdes $\\mu_j$ :\n",
    "    \n",
    "    <img src=\"img/ex_km_4_2.png\" width=75%>\n",
    "    \n",
    "    3. Actualisation des positions des centroïdes :\n",
    "    \n",
    "    <img src=\"img/ex_km_4_3.png\" width=45%>\n",
    "    \n",
    "5. <u>***Itération 5*** : Les centroïdes ont été modifiés lors de l'itération donc on continue</u>    \n",
    "    1. Calcul de la distance de chaque points à chacun des $k=3$ centroïdes :\n",
    "    \n",
    "    <img src=\"img/ex_km_5_1.png\" width=75%>\n",
    "    \n",
    "    2. Formation des clusters : chaque point $x_i$ de $\\mathcal{D}$ est affecté au cluster $k$ dont si le point est plus proche du centroïde $\\mu_k$ que des autres centroïdes $\\mu_j$ :\n",
    "    \n",
    "    <img src=\"img/ex_km_5_2.png\" width=75%>\n",
    "    \n",
    "    3. Actualisation des positions des centroïdes :\n",
    "    \n",
    "    <img src=\"img/ex_km_5_3.png\" width=45%>\n",
    "    \n",
    "6. <u>***Itération 6*** : Les centroïdes ont été modifiés lors de l'itération donc on continue</u>    \n",
    "    1. Calcul de la distance de chaque points à chacun des $k=3$ centroïdes :\n",
    "    \n",
    "    <img src=\"img/ex_km_6_1.png\" width=75%>\n",
    "    \n",
    "    2. Formation des clusters : chaque point $x_i$ de $\\mathcal{D}$ est affecté au cluster $k$ dont si le point est plus proche du centroïde $\\mu_k$ que des autres centroïdes $\\mu_j$ :\n",
    "    \n",
    "    <img src=\"img/ex_km_6_2.png\" width=75%>\n",
    "    \n",
    "    3. Actualisation des positions des centroïdes :\n",
    "    \n",
    "    <img src=\"img/ex_km_6_3.png\" width=45%>\n",
    "    \n",
    "7. <u>***Itération 7*** : Les centroïdes n'ont pas été modifiés lors de l'itération donc on arrête !!!</u>\n",
    "</span>"
   ]
  },
  {
   "cell_type": "markdown",
   "metadata": {
    "tags": []
   },
   "source": [
    "### Autres exemples de déroulement"
   ]
  },
  {
   "cell_type": "markdown",
   "metadata": {},
   "source": [
    "Pour k=4:\n",
    "\n",
    "<p style=\"text-align: center;\">\n",
    "    <img src=\"img/kmean_4.gif\"></br>\n",
    "</p>\n",
    "\n",
    "Pour k=7:\n",
    "\n",
    "<p style=\"text-align: center;\">\n",
    "    <img src=\"img/kmean_7.gif\"></br>\n",
    "</p>\n",
    "\n",
    "Pour k=8:\n",
    "\n",
    "<p style=\"text-align: center;\">\n",
    "    <img src=\"img/kmean_8.gif\"></br>\n",
    "</p>\n",
    "\n",
    "Pour k=8:\n",
    "\n",
    "<p style=\"text-align: center;\">\n",
    "    <img src=\"img/kmean_8_2.gif\"></br>\n",
    "</p>"
   ]
  },
  {
   "cell_type": "markdown",
   "metadata": {
    "tags": []
   },
   "source": [
    "### L'algorithme du K-mean"
   ]
  },
  {
   "cell_type": "markdown",
   "metadata": {},
   "source": [
    "<u>**Input**</u>\n",
    "- $\\mathcal{D}$ un jeu de données\n",
    "- $k$ le nombre de classe à former.\n",
    "- $\\mathcal{M}=\\{\\mu_1, \\mu_2, ..., \\mu_k\\}$ un ensemble initial de centres de clusters (centroides / centres mobiles)\n",
    "\n",
    "<u>**Output**</u>\n",
    "- une classification $\\mathcal{C}$ contenant $k$ classes/clusters\n",
    "\n",
    "<u>**Algorithme**</u>\n",
    "- Initialisation: \n",
    "\n",
    "- Tant qu'il n'y a pas convergence:\n",
    "    - Mettre ou Former la partition en associant chaque point $x_i$ au cluster dont le centre est le plus proche:\n",
    "    $$\\mathcal{C}=\\{c_j=\\{x_i, ||x_i-\\mu_j|| \\leq ||x_i-\\mu_{j'}|| \\forall j'=1..k\\}\\}$$\n",
    "    - Recalculer les centres des clusters:\n",
    "    $$\\mathcal{M}=\\{\\mu_j=\\frac{1}{n_j}\\sum_{i\\in c_k}x_i\\}_{j=1..k}$$"
   ]
  },
  {
   "cell_type": "markdown",
   "metadata": {},
   "source": [
    "<span style=\"color:midnightblue\">\n",
    "\n",
    "<u>**Remarque 1 :**</u>\n",
    "Plusieurs stratégies peuvent être mises en oeuvre pour choisir la position intiale des centres de clusters, parmi lesquelles:\n",
    "- choisir des positions aléatoires pour les centres.\n",
    "- attribuer aléatoirement chaque point à un cluster et calculer son centre,\n",
    "- choisir k points du jeu de données et les définir comme les centres des clusters initiaux.\n",
    "</span>"
   ]
  },
  {
   "cell_type": "markdown",
   "metadata": {
    "hide_input": true
   },
   "source": [
    "<span style=\"color:darkgreen\">\n",
    "    \n",
    "<u>**Exercice(s) :**</u>\n",
    "\n",
    "- Exercice TD : Déroulement du KMeans\n",
    "- Exercice TP: Programmation du KMeans\n",
    "- Exercice TP: Application du KMeans\n",
    "</span>"
   ]
  }
 ],
 "metadata": {
  "kernelspec": {
   "display_name": "Python 3 (ipykernel)",
   "language": "python",
   "name": "python3"
  },
  "language_info": {
   "codemirror_mode": {
    "name": "ipython",
    "version": 3
   },
   "file_extension": ".py",
   "mimetype": "text/x-python",
   "name": "python",
   "nbconvert_exporter": "python",
   "pygments_lexer": "ipython3",
   "version": "3.10.9"
  }
 },
 "nbformat": 4,
 "nbformat_minor": 4
}
